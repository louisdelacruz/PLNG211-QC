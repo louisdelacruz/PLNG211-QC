{
  "nbformat": 4,
  "nbformat_minor": 0,
  "metadata": {
    "colab": {
      "provenance": [],
      "authorship_tag": "ABX9TyOk1tRinM9gEYbPzurNksOy",
      "include_colab_link": true
    },
    "kernelspec": {
      "name": "python3",
      "display_name": "Python 3"
    },
    "language_info": {
      "name": "python"
    }
  },
  "cells": [
    {
      "cell_type": "markdown",
      "metadata": {
        "id": "view-in-github",
        "colab_type": "text"
      },
      "source": [
        "<a href=\"https://colab.research.google.com/github/louisdelacruz/PLNG211-QC/blob/main/DELA_CRUZ%2C_LOUIS.ipynb\" target=\"_parent\"><img src=\"https://colab.research.google.com/assets/colab-badge.svg\" alt=\"Open In Colab\"/></a>"
      ]
    },
    {
      "cell_type": "code",
      "execution_count": 34,
      "metadata": {
        "colab": {
          "base_uri": "https://localhost:8080/"
        },
        "id": "7T-zKogkKns0",
        "outputId": "a1854153-603f-4a4c-cbfe-8f03d93acfd8"
      },
      "outputs": [
        {
          "output_type": "stream",
          "name": "stdout",
          "text": [
            "[26, 49, 98, 87, 62, 75]\n",
            "Even numbers: \n",
            "26\n",
            "98\n",
            "62\n",
            "Sum of even numbers: 186\n"
          ]
        }
      ],
      "source": [
        "#Exercise 1\n",
        "#Design an algorithm and the corresponding flowchart (Note: You may use LucidChart or any application) \n",
        "#for adding the test scores as given below if the number is even: 26,49,98,87,62,75.\n",
        "\n",
        "array = [26,49,98,87,62,75]\n",
        "sum = 0\n",
        "print(array)\n",
        "print(\"Even numbers: \")\n",
        "for i in array:\n",
        "    if i % 2 == 0:\n",
        "        sum = sum + i\n",
        "        print(i)\n",
        "print(\"Sum of even numbers:\",sum)"
      ]
    }
  ]
}