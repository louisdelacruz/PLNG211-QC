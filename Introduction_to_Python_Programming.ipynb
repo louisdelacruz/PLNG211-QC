{
  "nbformat": 4,
  "nbformat_minor": 0,
  "metadata": {
    "colab": {
      "provenance": [],
      "authorship_tag": "ABX9TyOJm3app1OWdxp4R/jJRN9D",
      "include_colab_link": true
    },
    "kernelspec": {
      "name": "python3",
      "display_name": "Python 3"
    },
    "language_info": {
      "name": "python"
    }
  },
  "cells": [
    {
      "cell_type": "markdown",
      "metadata": {
        "id": "view-in-github",
        "colab_type": "text"
      },
      "source": [
        "<a href=\"https://colab.research.google.com/github/louisdelacruz/PLNG211-QC/blob/main/Introduction_to_Python_Programming.ipynb\" target=\"_parent\"><img src=\"https://colab.research.google.com/assets/colab-badge.svg\" alt=\"Open In Colab\"/></a>"
      ]
    },
    {
      "cell_type": "markdown",
      "source": [
        "Python indentation\n"
      ],
      "metadata": {
        "id": "9DW0Wuq_KqgA"
      }
    },
    {
      "cell_type": "code",
      "source": [
        "#Python indentation example (labeling)\n",
        "\n",
        "if 5>2:\n",
        "  print(\"5 is greater than 2\")\n",
        "#This is a comment\n",
        "  print(\"Hello, World\")  \n",
        "  myVar=\"John\"\n",
        "  b=\"Sally\" #This is a type of string"
      ],
      "metadata": {
        "id": "rmDli4aSqTeQ"
      },
      "execution_count": null,
      "outputs": []
    },
    {
      "cell_type": "markdown",
      "source": [
        "Python Variables\n"
      ],
      "metadata": {
        "id": "sIWpn_41LXMg"
      }
    },
    {
      "cell_type": "code",
      "source": [
        "x = 1\n",
        "a, b = 0,-1\n",
        "print(a)\n",
        "a = 9\n",
        "c = \"Sally\"\n",
        "c = \"Danny\"\n",
        "#Code is read by line so the newer declaration will be read.\n",
        "print(c)\n",
        "c = \"Maria\""
      ],
      "metadata": {
        "id": "m9CpidKPsx7m"
      },
      "execution_count": null,
      "outputs": []
    },
    {
      "cell_type": "code",
      "source": [
        "print(c) \n",
        "#Code cell will print latest (c) declaration from previous cell."
      ],
      "metadata": {
        "colab": {
          "base_uri": "https://localhost:8080/"
        },
        "id": "cmIFd2-7LqHR",
        "outputId": "0654cbe0-eb84-4422-8d58-0e39455bdef6"
      },
      "execution_count": 4,
      "outputs": [
        {
          "output_type": "stream",
          "name": "stdout",
          "text": [
            "Maria\n"
          ]
        }
      ]
    },
    {
      "cell_type": "markdown",
      "source": [
        "Multiple Variables"
      ],
      "metadata": {
        "id": "LownZdSnK15X"
      }
    },
    {
      "cell_type": "code",
      "source": [
        "#Multiple variables with declarations in a single line.\n",
        "f, g, h = \"one\", \"two\", \"three\"\n",
        "print(f)\n",
        "print(g)\n",
        "print(h)"
      ],
      "metadata": {
        "colab": {
          "base_uri": "https://localhost:8080/"
        },
        "id": "lK5qPlfLLvJ6",
        "outputId": "b309f792-5d07-4c01-d2ac-9006d45da409"
      },
      "execution_count": 5,
      "outputs": [
        {
          "output_type": "stream",
          "name": "stdout",
          "text": [
            "one\n",
            "two\n",
            "three\n"
          ]
        }
      ]
    },
    {
      "cell_type": "markdown",
      "source": [
        "Python Casting"
      ],
      "metadata": {
        "id": "INuyb6ryL-gn"
      }
    },
    {
      "cell_type": "code",
      "source": [
        "#Explicit type casting\n",
        "#Python needs user involvement to convert the variable data type into certain data type.\n",
        "d = int(4)\n",
        "print(d)\n",
        "e = float(4)\n",
        "print(e)"
      ],
      "metadata": {
        "colab": {
          "base_uri": "https://localhost:8080/"
        },
        "id": "6b_itTrJMAGR",
        "outputId": "59e32f96-a267-4937-e9a7-0c9121be4097"
      },
      "execution_count": 6,
      "outputs": [
        {
          "output_type": "stream",
          "name": "stdout",
          "text": [
            "4\n",
            "4.0\n"
          ]
        }
      ]
    },
    {
      "cell_type": "code",
      "source": [
        "#Implicit type casting\n",
        "#Python automatically converts data types.\n",
        "d = 4.0\n",
        "e = 4\n",
        "print(type(d))\n",
        "print(type(e))"
      ],
      "metadata": {
        "colab": {
          "base_uri": "https://localhost:8080/"
        },
        "id": "C35TaismMKJA",
        "outputId": "2fe68a59-e31e-4cc3-e654-1b678ac0f00f"
      },
      "execution_count": 7,
      "outputs": [
        {
          "output_type": "stream",
          "name": "stdout",
          "text": [
            "<class 'float'>\n",
            "<class 'int'>\n"
          ]
        }
      ]
    },
    {
      "cell_type": "markdown",
      "source": [
        "Single Quote and Double Quote"
      ],
      "metadata": {
        "id": "xaHn-dQvMNq9"
      }
    },
    {
      "cell_type": "code",
      "source": [
        "print('Look')\n",
        "print(\"Look\")\n",
        "#Single or double quotation in python is interchangeable."
      ],
      "metadata": {
        "id": "-Ilv_8BmMQL9"
      },
      "execution_count": null,
      "outputs": []
    },
    {
      "cell_type": "markdown",
      "source": [
        "Output Variables\n"
      ],
      "metadata": {
        "id": "ePepR7RRMS9F"
      }
    },
    {
      "cell_type": "code",
      "source": [
        "#Print displays output of variables.\n",
        "s = \"Python\"\n",
        "t = \"is\"\n",
        "r = \"fun\"\n",
        "print(s + t + r)\n",
        "#No blank space declared in the variables. Can be added with a single/double quotation in the equation.\n",
        "print (s +' ' + t + ' '+ r)"
      ],
      "metadata": {
        "colab": {
          "base_uri": "https://localhost:8080/"
        },
        "id": "8CW1qhLhMVBQ",
        "outputId": "2006ea33-52a6-4bd3-e1ad-33d74fcfc3dc"
      },
      "execution_count": 8,
      "outputs": [
        {
          "output_type": "stream",
          "name": "stdout",
          "text": [
            "Pythonisfun\n",
            "Python is fun\n"
          ]
        }
      ]
    },
    {
      "cell_type": "markdown",
      "source": [
        "Arithmetics"
      ],
      "metadata": {
        "id": "kgb8vaE5MdV7"
      }
    },
    {
      "cell_type": "code",
      "source": [
        "x= 1\n",
        "y= 2\n",
        "sum = x+y\n",
        "sum\n",
        "sum\n",
        "sum\n",
        "x\n",
        "print(x+y)\n",
        "print(x)\n",
        "print(y)\n",
        "print(sum)\n",
        "\n",
        "#modulo\n",
        "l = 4%2\n",
        "print(\"4%2= \",l)\n",
        "\n",
        "#floor division\n",
        "k= 3//2\n",
        "print(\"3//2= \",k)"
      ],
      "metadata": {
        "colab": {
          "base_uri": "https://localhost:8080/"
        },
        "id": "aIzcRx__MfS6",
        "outputId": "7d38de4c-43c7-45e7-84c0-2cc5b4aae06e"
      },
      "execution_count": 11,
      "outputs": [
        {
          "output_type": "stream",
          "name": "stdout",
          "text": [
            "3\n",
            "1\n",
            "2\n",
            "3\n",
            "4%2=  0\n",
            "3//2=  1\n"
          ]
        }
      ]
    },
    {
      "cell_type": "markdown",
      "source": [
        "Assignment Operator"
      ],
      "metadata": {
        "id": "sKRI5xAYNuuq"
      }
    },
    {
      "cell_type": "code",
      "source": [
        "x+=1\n",
        "print(x)"
      ],
      "metadata": {
        "colab": {
          "base_uri": "https://localhost:8080/"
        },
        "id": "mD_q8QMENxWn",
        "outputId": "29d8939b-42aa-4066-c7e0-abaac864ef43"
      },
      "execution_count": 12,
      "outputs": [
        {
          "output_type": "stream",
          "name": "stdout",
          "text": [
            "2\n"
          ]
        }
      ]
    },
    {
      "cell_type": "markdown",
      "source": [
        "Logical Operator"
      ],
      "metadata": {
        "id": "fG85wifPNz9T"
      }
    },
    {
      "cell_type": "code",
      "source": [
        "q = 1\n",
        "r = 4\n",
        "\n",
        "q>r and r==r"
      ],
      "metadata": {
        "colab": {
          "base_uri": "https://localhost:8080/"
        },
        "id": "xAHWOnumN1fy",
        "outputId": "cd372bd4-dd1d-48b0-cc8c-3a5e3e2a8428"
      },
      "execution_count": 13,
      "outputs": [
        {
          "output_type": "execute_result",
          "data": {
            "text/plain": [
              "False"
            ]
          },
          "metadata": {},
          "execution_count": 13
        }
      ]
    }
  ]
}