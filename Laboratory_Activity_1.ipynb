{
  "nbformat": 4,
  "nbformat_minor": 0,
  "metadata": {
    "colab": {
      "provenance": [],
      "authorship_tag": "ABX9TyNmqczmnvuRUan3zJneyLeX",
      "include_colab_link": true
    },
    "kernelspec": {
      "name": "python3",
      "display_name": "Python 3"
    },
    "language_info": {
      "name": "python"
    }
  },
  "cells": [
    {
      "cell_type": "markdown",
      "metadata": {
        "id": "view-in-github",
        "colab_type": "text"
      },
      "source": [
        "<a href=\"https://colab.research.google.com/github/louisdelacruz/PLNG211-QC/blob/main/Laboratory_Activity_1.ipynb\" target=\"_parent\"><img src=\"https://colab.research.google.com/assets/colab-badge.svg\" alt=\"Open In Colab\"/></a>"
      ]
    },
    {
      "cell_type": "code",
      "execution_count": 11,
      "metadata": {
        "colab": {
          "base_uri": "https://localhost:8080/"
        },
        "id": "JD9FQ_V9KSUf",
        "outputId": "5a3cfc14-c465-4fb9-8ea5-bd3c5a8a3c57"
      },
      "outputs": [
        {
          "output_type": "stream",
          "name": "stdout",
          "text": [
            "Array index 0: 1\n",
            "Array index 1: 2\n",
            "Array index 2: 3\n",
            "Array index 3: 4\n",
            "Array index 4: 5\n",
            "Array index 5: 6\n",
            "Array index 6: 7\n",
            "Array index 7: 8\n",
            "Array index 8: 9\n",
            "Array index 9: 10\n",
            "Total sum of the integers is 55\n"
          ]
        }
      ],
      "source": [
        "#A.\tMethodology\t\t(10 points each)\n",
        "\n",
        "#1.\tWrite a Python program to create an array of 10 integers and display the array items. Access individual elements through indexes and compute for the sum.\n",
        "\n",
        "Integers = [1,2,3,4,5,6,7,8,9,10]\n",
        "print(\"Array index 0:\",Integers[0])\n",
        "print(\"Array index 1:\",Integers[1])\n",
        "print(\"Array index 2:\",Integers[2])\n",
        "print(\"Array index 3:\",Integers[3])\n",
        "print(\"Array index 4:\",Integers[4])\n",
        "print(\"Array index 5:\",Integers[5])\n",
        "print(\"Array index 6:\",Integers[6])\n",
        "print(\"Array index 7:\",Integers[7])\n",
        "print(\"Array index 8:\",Integers[8])\n",
        "print(\"Array index 9:\",Integers[9])\n",
        "total = sum(Integers)\n",
        "print(\"Total sum of the integers is\", total)\n"
      ]
    },
    {
      "cell_type": "code",
      "source": [
        "#2.\tWrite a Python program to append a new item to the end of the array. Original array: numbers = [1, 2, 3, 4, 5, 6, 7, 8, 9, 10]\n",
        "numbers = [1, 2, 3, 4, 5, 6, 7, 8, 9, 10]\n",
        "item = int(input(\"Enter your item: \"))\n",
        "numbers.append(item)\n",
        "print(numbers)\n"
      ],
      "metadata": {
        "colab": {
          "base_uri": "https://localhost:8080/"
        },
        "id": "j1_-Fhs4MGYt",
        "outputId": "9a5b0cb4-dfac-4e82-a050-41794d50249f"
      },
      "execution_count": 14,
      "outputs": [
        {
          "output_type": "stream",
          "name": "stdout",
          "text": [
            "Enter your item: 19\n",
            "[1, 2, 3, 4, 5, 6, 7, 8, 9, 10, 19]\n"
          ]
        }
      ]
    },
    {
      "cell_type": "code",
      "source": [
        "#3.\tWrite a Python program to insert a new item before the second element in an existing array. Original array: numbers = [1, 2, 3, 4, 5, 6, 7, 8, 9, 10]\n",
        "numbers = [1, 2, 3, 4, 5, 6, 7, 8, 9, 10]\n",
        "item = int(input(\"Enter your item: \"))\n",
        "numbers.insert(1,item)\n",
        "print(numbers)"
      ],
      "metadata": {
        "colab": {
          "base_uri": "https://localhost:8080/"
        },
        "id": "Vk8bL68uML43",
        "outputId": "9857196f-a84c-4594-d4fe-47e8e4386775"
      },
      "execution_count": 15,
      "outputs": [
        {
          "output_type": "stream",
          "name": "stdout",
          "text": [
            "Enter your item: 10\n",
            "[1, 10, 2, 3, 4, 5, 6, 7, 8, 9, 10]\n"
          ]
        }
      ]
    },
    {
      "cell_type": "code",
      "source": [
        "#4.\tWrite a Python program to reverse the order of the items in the array. Original array: numbers = [5, 4, 3, 2, 1]\n",
        "numbers = [5, 4, 3, 2, 1]\n",
        "numbers.reverse()\n",
        "print('Reversed List:', numbers)"
      ],
      "metadata": {
        "colab": {
          "base_uri": "https://localhost:8080/"
        },
        "id": "G7gMJAP4MOuc",
        "outputId": "8af84501-558d-4391-a65a-b7bf1eb62758"
      },
      "execution_count": 18,
      "outputs": [
        {
          "output_type": "stream",
          "name": "stdout",
          "text": [
            "Reversed List: [1, 2, 3, 4, 5]\n"
          ]
        }
      ]
    },
    {
      "cell_type": "code",
      "source": [
        "#5.\tWrite a Python program to get the length of the array. Original array: numbers = [5, 4, 3, 2, 1]\n",
        "numbers = [5, 4, 3, 2, 1]\n",
        "length = len(numbers)\n",
        "print(length)"
      ],
      "metadata": {
        "colab": {
          "base_uri": "https://localhost:8080/"
        },
        "id": "2dBzcVBnMQq1",
        "outputId": "3f7e6796-f866-494b-a05d-03077aad80fb"
      },
      "execution_count": 19,
      "outputs": [
        {
          "output_type": "stream",
          "name": "stdout",
          "text": [
            "5\n"
          ]
        }
      ]
    }
  ]
}