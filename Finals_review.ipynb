{
  "nbformat": 4,
  "nbformat_minor": 0,
  "metadata": {
    "colab": {
      "provenance": [],
      "authorship_tag": "ABX9TyMp9lA6magg8i0yHWlOFv8q",
      "include_colab_link": true
    },
    "kernelspec": {
      "name": "python3",
      "display_name": "Python 3"
    },
    "language_info": {
      "name": "python"
    }
  },
  "cells": [
    {
      "cell_type": "markdown",
      "metadata": {
        "id": "view-in-github",
        "colab_type": "text"
      },
      "source": [
        "<a href=\"https://colab.research.google.com/github/louisdelacruz/PLNG211-QC/blob/main/Finals_review.ipynb\" target=\"_parent\"><img src=\"https://colab.research.google.com/assets/colab-badge.svg\" alt=\"Open In Colab\"/></a>"
      ]
    },
    {
      "cell_type": "code",
      "execution_count": 17,
      "metadata": {
        "colab": {
          "base_uri": "https://localhost:8080/",
          "height": 131
        },
        "id": "uA0qxAInW4Ad",
        "outputId": "ece8f362-6050-4b77-c84d-8386a5213c56"
      },
      "outputs": [
        {
          "output_type": "error",
          "ename": "IndentationError",
          "evalue": "ignored",
          "traceback": [
            "\u001b[0;36m  File \u001b[0;32m\"<tokenize>\"\u001b[0;36m, line \u001b[0;32m13\u001b[0m\n\u001b[0;31m    def Perimeter(self):\u001b[0m\n\u001b[0m    ^\u001b[0m\n\u001b[0;31mIndentationError\u001b[0m\u001b[0;31m:\u001b[0m unindent does not match any outer indentation level\n"
          ]
        }
      ],
      "source": [
        "#Create a Rectangle class in Python language with length and width attributes,\n",
        "#Perimeter() and Area() as methods to compute for the perimeter and area of a rectangle.\n",
        "\n",
        "class Rectangle:\n",
        "  def __init__(self,length,width):\n",
        "    self.length = length\n",
        "    self.width = width\n",
        "\n",
        "  def Perimeter(self):\n",
        "    return 2*self.length + 2*self.width\n",
        "\n",
        "  def Area(self):\n",
        "    return self.length*self.width\n",
        "\n",
        "  #def display(self):\n",
        "    #print(\"The perimeter of the rectangle is:\",self.Perimeter())\n",
        "    #print(\"The area of the rectangle is:\",self.Area())\n",
        "    \n",
        "rectangle=Rectangle(14,7)\n",
        "square = Square(2,2)\n",
        "square.Perimeter()\n",
        "print(\"The area of the rectangle is:\",rectangle.Area())\n",
        "print(\"The perimeter of the rectangle is:\",rectangle.Perimeter())\n",
        "#rectangle.display()"
      ]
    },
    {
      "cell_type": "code",
      "source": [
        "array = [1,2,3,4,5]\n",
        "x=pow(2,2)\n",
        "array.append(6)\n",
        "print(array)\n",
        "print(x)"
      ],
      "metadata": {
        "colab": {
          "base_uri": "https://localhost:8080/"
        },
        "id": "nX39EUIAcWTe",
        "outputId": "f479989d-1e72-4a53-8239-22fd17a9572b"
      },
      "execution_count": 11,
      "outputs": [
        {
          "output_type": "stream",
          "name": "stdout",
          "text": [
            "[1, 2, 3, 4, 5, 6]\n",
            "4\n"
          ]
        }
      ]
    },
    {
      "cell_type": "code",
      "source": [
        "class Person:\n",
        "  def __init__ (self,name,age,school):\n",
        "    self.name = name\n",
        "    self.age = age\n",
        "    self.school = school\n",
        "\n",
        "  def display(self):\n",
        "    print(\"The name of the person is:\",self.name)\n",
        "    print(\"The age of the person is\",self.age)\n",
        "    print(\"The school of the person is:\",self.school)\n",
        "class Student(Person):\n",
        "  pass\n",
        "person = Person(\"Ana\",18,\"OLFU\")\n",
        "student = Student(\"Rey\",19,\"Adamson University\")\n",
        "person.display()\n",
        "student.display()\n"
      ],
      "metadata": {
        "colab": {
          "base_uri": "https://localhost:8080/"
        },
        "id": "pIc7_XYwerxm",
        "outputId": "4d92b649-c2f5-4226-e9d4-fb5d1d6b17be"
      },
      "execution_count": 14,
      "outputs": [
        {
          "output_type": "stream",
          "name": "stdout",
          "text": [
            "The name of the person is: Ana\n",
            "The age of the person is 18\n",
            "The school of the person is: OLFU\n",
            "The name of the person is: Rey\n",
            "The age of the person is 19\n",
            "The school of the person is: Adamson University\n"
          ]
        }
      ]
    }
  ]
}