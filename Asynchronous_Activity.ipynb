{
  "nbformat": 4,
  "nbformat_minor": 0,
  "metadata": {
    "colab": {
      "provenance": [],
      "authorship_tag": "ABX9TyPT2F2DC7B+3LMG33eTAod1",
      "include_colab_link": true
    },
    "kernelspec": {
      "name": "python3",
      "display_name": "Python 3"
    },
    "language_info": {
      "name": "python"
    }
  },
  "cells": [
    {
      "cell_type": "markdown",
      "metadata": {
        "id": "view-in-github",
        "colab_type": "text"
      },
      "source": [
        "<a href=\"https://colab.research.google.com/github/louisdelacruz/PLNG211-QC/blob/main/Asynchronous_Activity.ipynb\" target=\"_parent\"><img src=\"https://colab.research.google.com/assets/colab-badge.svg\" alt=\"Open In Colab\"/></a>"
      ]
    },
    {
      "cell_type": "markdown",
      "source": [
        "Increment\n"
      ],
      "metadata": {
        "id": "ACO9DsqgOqVk"
      }
    },
    {
      "cell_type": "code",
      "source": [
        "a = 5\n",
        "a +=1\n",
        "print(a)"
      ],
      "metadata": {
        "colab": {
          "base_uri": "https://localhost:8080/"
        },
        "id": "V348vijFOs2x",
        "outputId": "dd903562-e26c-4ea9-c7b3-635de195980e"
      },
      "execution_count": 1,
      "outputs": [
        {
          "output_type": "stream",
          "name": "stdout",
          "text": [
            "6\n"
          ]
        }
      ]
    },
    {
      "cell_type": "markdown",
      "source": [
        "Decrement"
      ],
      "metadata": {
        "id": "ISSndo3bOzpD"
      }
    },
    {
      "cell_type": "code",
      "source": [
        "a = 5\n",
        "a -= 1\n",
        "print(a)"
      ],
      "metadata": {
        "colab": {
          "base_uri": "https://localhost:8080/"
        },
        "id": "EAus7mPKPMmR",
        "outputId": "88fe2fb3-2007-4c6d-ccbd-1852c3d75371"
      },
      "execution_count": 2,
      "outputs": [
        {
          "output_type": "stream",
          "name": "stdout",
          "text": [
            "4\n"
          ]
        }
      ]
    },
    {
      "cell_type": "markdown",
      "source": [
        "String Concatenation"
      ],
      "metadata": {
        "id": "T-P5qD-GPPJm"
      }
    },
    {
      "cell_type": "code",
      "source": [
        "a = 'Hello ' + 'World!'\n",
        "print(a)"
      ],
      "metadata": {
        "colab": {
          "base_uri": "https://localhost:8080/"
        },
        "id": "dgv8yqQpPT2q",
        "outputId": "7e5cc27f-2be9-49ea-c62a-d22ed99d6393"
      },
      "execution_count": 3,
      "outputs": [
        {
          "output_type": "stream",
          "name": "stdout",
          "text": [
            "Hello World!\n"
          ]
        }
      ]
    },
    {
      "cell_type": "markdown",
      "source": [
        "Complex Expressions"
      ],
      "metadata": {
        "id": "fgx-wt3xPRg3"
      }
    },
    {
      "cell_type": "code",
      "source": [
        "a = 3 + 5 - 6 * 2/4\n",
        "print(a)"
      ],
      "metadata": {
        "colab": {
          "base_uri": "https://localhost:8080/"
        },
        "id": "jLc6GDrqPZO-",
        "outputId": "ce5dd123-4e57-4b85-d51d-35826f926cf8"
      },
      "execution_count": 4,
      "outputs": [
        {
          "output_type": "stream",
          "name": "stdout",
          "text": [
            "5.0\n"
          ]
        }
      ]
    },
    {
      "cell_type": "markdown",
      "source": [
        "Conditional Statements"
      ],
      "metadata": {
        "id": "mZVzXysGPb84"
      }
    },
    {
      "cell_type": "markdown",
      "source": [
        "Boolean Conditions"
      ],
      "metadata": {
        "id": "nZSG5QKNPfIZ"
      }
    },
    {
      "cell_type": "code",
      "source": [
        "x= True\n",
        "if x:\n",
        "  print(\"var x is True\")\n",
        "else:\n",
        "  print(\"var x is False\")"
      ],
      "metadata": {
        "colab": {
          "base_uri": "https://localhost:8080/"
        },
        "id": "x4ImMltHPh3f",
        "outputId": "7b260f6f-591a-42a9-d3ab-354adce16233"
      },
      "execution_count": 5,
      "outputs": [
        {
          "output_type": "stream",
          "name": "stdout",
          "text": [
            "var x is True\n"
          ]
        }
      ]
    },
    {
      "cell_type": "markdown",
      "source": [
        "String Condition"
      ],
      "metadata": {
        "id": "Q-KfWE1LPkze"
      }
    },
    {
      "cell_type": "code",
      "source": [
        "x = \"Hello World!\"\n",
        "\n",
        "if x == 'Hello World!':\n",
        "  print(\"var x is Hello World!\")\n",
        "else: \n",
        "  print(\"var x is not Hello World!\")"
      ],
      "metadata": {
        "colab": {
          "base_uri": "https://localhost:8080/"
        },
        "id": "6js6hNrOPptT",
        "outputId": "79627111-8392-4abe-acd3-46fcf6723ad6"
      },
      "execution_count": 6,
      "outputs": [
        {
          "output_type": "stream",
          "name": "stdout",
          "text": [
            "var x is Hello World!\n"
          ]
        }
      ]
    },
    {
      "cell_type": "markdown",
      "source": [
        "Numerical"
      ],
      "metadata": {
        "id": "NDlmT6_IPsDM"
      }
    },
    {
      "cell_type": "code",
      "source": [
        "x = 10\n",
        "\n",
        "if x == '10':\n",
        "  print(\"var x is a string\")\n",
        "elif x == 10:\n",
        "  print(\"var x is an integer\")\n",
        "else:\n",
        "  print(\"var x is none of the above\")"
      ],
      "metadata": {
        "colab": {
          "base_uri": "https://localhost:8080/"
        },
        "id": "-2NaUcuLPuGx",
        "outputId": "c6ba56e1-83aa-4322-aa56-29d49fffb1b0"
      },
      "execution_count": 7,
      "outputs": [
        {
          "output_type": "stream",
          "name": "stdout",
          "text": [
            "var x is an integer\n"
          ]
        }
      ]
    },
    {
      "cell_type": "markdown",
      "source": [
        "Loops"
      ],
      "metadata": {
        "id": "54IaQdb6PwsR"
      }
    },
    {
      "cell_type": "markdown",
      "source": [
        "For Loops"
      ],
      "metadata": {
        "id": "Nhd5obUVP0SE"
      }
    },
    {
      "cell_type": "code",
      "source": [
        "for var in range(0,5,2):\n",
        "  print(var)\n"
      ],
      "metadata": {
        "colab": {
          "base_uri": "https://localhost:8080/"
        },
        "id": "H4ueHJ3WPyVu",
        "outputId": "754fe119-21fc-41a3-9d35-200dcfb2d9c9"
      },
      "execution_count": 8,
      "outputs": [
        {
          "output_type": "stream",
          "name": "stdout",
          "text": [
            "0\n",
            "2\n",
            "4\n"
          ]
        }
      ]
    },
    {
      "cell_type": "markdown",
      "source": [
        "While Loops"
      ],
      "metadata": {
        "id": "8k1prdkLP3ap"
      }
    },
    {
      "cell_type": "code",
      "source": [
        "var=0\n",
        "while var < 5:\n",
        "  print(var)\n",
        "  var +=2 "
      ],
      "metadata": {
        "colab": {
          "base_uri": "https://localhost:8080/"
        },
        "id": "Sof-5fgzP5bo",
        "outputId": "2c724424-f662-4153-c45b-a002f36295e0"
      },
      "execution_count": 9,
      "outputs": [
        {
          "output_type": "stream",
          "name": "stdout",
          "text": [
            "0\n",
            "2\n",
            "4\n"
          ]
        }
      ]
    },
    {
      "cell_type": "markdown",
      "source": [
        "Nested Loops"
      ],
      "metadata": {
        "id": "AJM1-1h6P7sK"
      }
    },
    {
      "cell_type": "code",
      "source": [
        "x = 0\n",
        "while x<5:\n",
        "  for y in range (0,x):\n",
        "    print(y,end='')\n",
        "  x+=1\n",
        "  print()"
      ],
      "metadata": {
        "colab": {
          "base_uri": "https://localhost:8080/"
        },
        "id": "QGjHXnjuP-yD",
        "outputId": "3682e5df-7edb-4717-cc74-088afd0ed463"
      },
      "execution_count": 10,
      "outputs": [
        {
          "output_type": "stream",
          "name": "stdout",
          "text": [
            "\n",
            "0\n",
            "01\n",
            "012\n",
            "0123\n"
          ]
        }
      ]
    },
    {
      "cell_type": "markdown",
      "source": [
        "Lists"
      ],
      "metadata": {
        "id": "4JrLHCMrP_48"
      }
    },
    {
      "cell_type": "code",
      "source": [
        "pi = 3.14159\n",
        "varList = [1,2,'A','B','Hello!',pi]\n",
        "print(varList[0])\n",
        "print(varList[4])\n",
        "varList.append('World!')\n",
        "print(varList[6])\n",
        "len(varList)\n",
        "print(varList[5])\n",
        "varList.remove(pi)\n",
        "print(varList[5])"
      ],
      "metadata": {
        "colab": {
          "base_uri": "https://localhost:8080/"
        },
        "id": "T5JtxREMQAmY",
        "outputId": "a291eb28-3c1b-4c78-b878-1feab14db94c"
      },
      "execution_count": 11,
      "outputs": [
        {
          "output_type": "stream",
          "name": "stdout",
          "text": [
            "1\n",
            "Hello!\n",
            "World!\n",
            "3.14159\n",
            "World!\n"
          ]
        }
      ]
    },
    {
      "cell_type": "markdown",
      "source": [
        "Slicing"
      ],
      "metadata": {
        "id": "xu_9_4ajQCaA"
      }
    },
    {
      "cell_type": "code",
      "source": [
        "varList= [1,2,3,4,5,6,7,8,9,10]\n",
        "print(varList[:5])\n",
        "print(varList [5:])\n",
        "print(varList[:-2])\n",
        "print(varList[-2:])\n",
        "print(varList[2:-2])\n",
        "print(varList[2:8:2])\n",
        "\n",
        "\n",
        "#list(start:), list(:end), list(start:end), list(start:end:start)"
      ],
      "metadata": {
        "colab": {
          "base_uri": "https://localhost:8080/"
        },
        "id": "UGhBj_Y1QD1i",
        "outputId": "ddef7974-3614-4d93-db55-e91aa55ba7dc"
      },
      "execution_count": 12,
      "outputs": [
        {
          "output_type": "stream",
          "name": "stdout",
          "text": [
            "[1, 2, 3, 4, 5]\n",
            "[6, 7, 8, 9, 10]\n",
            "[1, 2, 3, 4, 5, 6, 7, 8]\n",
            "[9, 10]\n",
            "[3, 4, 5, 6, 7, 8]\n",
            "[3, 5, 7]\n"
          ]
        }
      ]
    },
    {
      "cell_type": "code",
      "source": [
        "var1,var2,var3 ='ABC','DEF','GHI'\n",
        "print(var1)\n",
        "print(var2)\n",
        "print(var3)\n",
        "\n",
        "a=b=c= \"123\"\n",
        "print(a)\n",
        "print(b)\n",
        "print(c)"
      ],
      "metadata": {
        "colab": {
          "base_uri": "https://localhost:8080/"
        },
        "id": "GnODLIHDQIy_",
        "outputId": "7584ede5-23fc-48b2-ea64-e83965cae792"
      },
      "execution_count": 13,
      "outputs": [
        {
          "output_type": "stream",
          "name": "stdout",
          "text": [
            "ABC\n",
            "DEF\n",
            "GHI\n",
            "123\n",
            "123\n",
            "123\n"
          ]
        }
      ]
    },
    {
      "cell_type": "markdown",
      "source": [
        "---------------------------------------------------------------------------"
      ],
      "metadata": {
        "id": "LiZPwVpUQrra"
      }
    },
    {
      "cell_type": "markdown",
      "source": [
        "ASYNCHRONOUS ACTIVITY"
      ],
      "metadata": {
        "id": "ohBYjtD2QxJL"
      }
    },
    {
      "cell_type": "code",
      "source": [
        "#Dela Cruz, Louis Philip C.\n",
        "#BSCS 2-YB-1\n",
        "#17/09/2022\n",
        "salary_rate = 600 #600/day\n",
        "salary = salary_rate*15 #15 days\n",
        "taxable_amount = .30 * salary\n",
        "net_pay = salary - taxable_amount\n",
        "\n",
        "print('Salary per day is', salary_rate)\n",
        "print('Total Salary per 15 days is', salary)\n",
        "print('Taxable is 30% of salary or',taxable_amount)\n",
        "print('Net pay is', net_pay)"
      ],
      "metadata": {
        "colab": {
          "base_uri": "https://localhost:8080/"
        },
        "id": "Zb2NKu5kTk6x",
        "outputId": "4a848e8a-d0cc-4fb0-80b4-cca74231df5e"
      },
      "execution_count": 65,
      "outputs": [
        {
          "output_type": "stream",
          "name": "stdout",
          "text": [
            "Salary per day is 600\n",
            "Total Salary per 15 days is 9000\n",
            "Taxable is 30% of salary or 2700.0\n",
            "Net pay is 6300.0\n"
          ]
        }
      ]
    },
    {
      "cell_type": "code",
      "source": [],
      "metadata": {
        "id": "7rrO2icywZvd"
      },
      "execution_count": null,
      "outputs": []
    }
  ]
}