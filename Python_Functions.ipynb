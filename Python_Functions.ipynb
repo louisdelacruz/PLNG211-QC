{
  "nbformat": 4,
  "nbformat_minor": 0,
  "metadata": {
    "colab": {
      "provenance": [],
      "authorship_tag": "ABX9TyN4eLwhfJkB9ATWwe1IE9zn",
      "include_colab_link": true
    },
    "kernelspec": {
      "name": "python3",
      "display_name": "Python 3"
    },
    "language_info": {
      "name": "python"
    }
  },
  "cells": [
    {
      "cell_type": "markdown",
      "metadata": {
        "id": "view-in-github",
        "colab_type": "text"
      },
      "source": [
        "<a href=\"https://colab.research.google.com/github/louisdelacruz/PLNG211-QC/blob/main/Python_Functions.ipynb\" target=\"_parent\"><img src=\"https://colab.research.google.com/assets/colab-badge.svg\" alt=\"Open In Colab\"/></a>"
      ]
    },
    {
      "cell_type": "code",
      "execution_count": 2,
      "metadata": {
        "colab": {
          "base_uri": "https://localhost:8080/"
        },
        "id": "GtYhnjEIcONx",
        "outputId": "1f32da52-7982-414f-fd16-f71b864ddff7"
      },
      "outputs": [
        {
          "output_type": "stream",
          "name": "stdout",
          "text": [
            "100\n",
            "Celsius 37.78\n",
            "Kelvin 310.93\n"
          ]
        }
      ],
      "source": [
        "#Writing your own function/conversion\n",
        "def convert_to_celsius(fahrenheit):\n",
        "  return(fahrenheit-32) * 5/9\n",
        "\n",
        "def convert_to_kelvin(fahrenheit):\n",
        "  return((fahrenheit - 32) *5/9) +273.15\n",
        "fahrenheit = int(input())\n",
        "\n",
        "print(\"Celsius\",round(convert_to_celsius(fahrenheit),2))\n",
        "print(\"Kelvin\",round(convert_to_kelvin(fahrenheit),2))"
      ]
    },
    {
      "cell_type": "code",
      "source": [
        "def my_function(fname):\n",
        "  return(fname + \"Sayo\")\n",
        "  \n",
        "print(my_function(\"Mam\"))\n",
        "print(my_function(\"Sayo\"))\n",
        "print(my_function(\"Rizette\"))"
      ],
      "metadata": {
        "colab": {
          "base_uri": "https://localhost:8080/"
        },
        "id": "az2_5gjCcleO",
        "outputId": "3d28381c-bb08-4928-b76c-48407e7a1148"
      },
      "execution_count": 3,
      "outputs": [
        {
          "output_type": "stream",
          "name": "stdout",
          "text": [
            "MamSayo\n",
            "SayoSayo\n",
            "RizetteSayo\n"
          ]
        }
      ]
    },
    {
      "cell_type": "code",
      "source": [
        "#Returns a value\n",
        "\n",
        "def myFunction(x):\n",
        "  return(5+x)\n",
        "print(myFunction(4))\n",
        "print(myFunction(5))\n",
        "print(myFunction(6))"
      ],
      "metadata": {
        "colab": {
          "base_uri": "https://localhost:8080/"
        },
        "id": "t9ahhyQ3cqrS",
        "outputId": "c1c752fc-7f0d-4caf-800d-69ee650fee50"
      },
      "execution_count": 4,
      "outputs": [
        {
          "output_type": "stream",
          "name": "stdout",
          "text": [
            "9\n",
            "10\n",
            "11\n"
          ]
        }
      ]
    },
    {
      "cell_type": "code",
      "source": [
        "#Exercise 1\n",
        "#Two of Python's built-in functions are min and max. In Google Colab, execute the following function calls:\n",
        "#a. min(2,3,4)\n",
        "#b.(2, -3, 4, 7, -5)\n",
        "#max(2, -3, min (4, 7), -5)\n",
        "a = [2,3,4]\n",
        "x = min(2,3,4)\n",
        "\n",
        "b = [2, -3, 4, 7, -5]\n",
        "y = max(b)\n",
        "\n",
        "c = (2, -3, min (4, 7), -5)\n",
        "z = max(c)\n",
        "print(x)\n",
        "print(y)\n",
        "print(z)\n",
        "\n"
      ],
      "metadata": {
        "colab": {
          "base_uri": "https://localhost:8080/"
        },
        "id": "OyuA6pBbcwf4",
        "outputId": "244bf0f7-c4f9-4c26-878d-20d620928f5a"
      },
      "execution_count": 11,
      "outputs": [
        {
          "output_type": "stream",
          "name": "stdout",
          "text": [
            "2\n",
            "7\n",
            "4\n"
          ]
        }
      ]
    },
    {
      "cell_type": "code",
      "source": [
        "#Exercise 2\n",
        "#Write a Python function that will return the sum, the average, and the sum of the squares of three integers\n",
        "\n",
        "def sum(a,b,c):\n",
        "  return(a+b+c)\n",
        "\n",
        "def ave(a,b,c):\n",
        "  return((a+b+c)/3)\n",
        "\n",
        "def squa(a,b,c):\n",
        "  return((a**2)+(b**2)+(c**2))\n",
        "\n",
        "\n",
        "\n",
        "a = int(input(\"Input 1: \"))\n",
        "b = int(input(\"Input 2: \"))\n",
        "c = int(input(\"Input 3: \"))\n",
        "print(\"Sum: \",sum(a,b,c))\n",
        "print(\"Average: \",ave(a,b,c))\n",
        "print(\"Sum of Squares: \",squa(a,b,c))"
      ],
      "metadata": {
        "colab": {
          "base_uri": "https://localhost:8080/"
        },
        "id": "1mEP8i3bdAPp",
        "outputId": "2295adee-9625-4ea6-d094-b66850825ec0"
      },
      "execution_count": 40,
      "outputs": [
        {
          "output_type": "stream",
          "name": "stdout",
          "text": [
            "Input 1: 10\n",
            "Input 2: 20\n",
            "Input 3: 30\n",
            "Sum:  60\n",
            "Average:  20.0\n",
            "Sum of Squares:  1400\n"
          ]
        }
      ]
    }
  ]
}