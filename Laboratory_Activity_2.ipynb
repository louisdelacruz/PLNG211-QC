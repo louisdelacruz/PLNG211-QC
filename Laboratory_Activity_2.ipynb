{
  "nbformat": 4,
  "nbformat_minor": 0,
  "metadata": {
    "colab": {
      "provenance": []
    },
    "kernelspec": {
      "name": "python3",
      "display_name": "Python 3"
    },
    "language_info": {
      "name": "python"
    }
  },
  "cells": [
    {
      "cell_type": "code",
      "execution_count": 12,
      "metadata": {
        "colab": {
          "base_uri": "https://localhost:8080/"
        },
        "id": "ZdFN7em0XvRR",
        "outputId": "78e2e946-3265-4902-bee1-c01608ae5bd2"
      },
      "outputs": [
        {
          "output_type": "stream",
          "name": "stdout",
          "text": [
            "sum = 210\n",
            "Average =  10.5\n"
          ]
        }
      ],
      "source": [
        "#Problem 1. Examine the program below and create an appropriate flowchart (50 points)\n",
        "#(Note: You may use LucidChart or Word Processing tool)\n",
        "\n",
        "n = 20\n",
        "\n",
        "total_numbers = n\n",
        "\n",
        "sum = 0\n",
        "\n",
        "while n >= 0:\n",
        "\n",
        "  sum += n\n",
        "\n",
        "  n -= 1\n",
        "\n",
        "print(\"sum =\", sum)\n",
        "\n",
        "average = sum / total_numbers\n",
        "\n",
        "print(\"Average = \", average)\n"
      ]
    },
    {
      "cell_type": "code",
      "source": [
        "#Problem 2. (50 points)\n",
        "\n",
        "#1.\tWrite a Python to display your full name, student number, age, and course\n",
        "#2.\tCreate a class named Student with attributes: Name, Student_No, Age, School, and Course\n",
        "#3.\tCreate an object name Myself and assign an instance for each attribute.\n",
        "#4.\tCreate a method Info() using an instantiation of a class.\n",
        "#5.\tInsert your GitHub link \"Lab Activity 2\" from your repository named \"OOP 1-1\"\n",
        "\n",
        "class Student:\n",
        "  def __init__(self,name,number,age,school,course):\n",
        "    self.name = name                #attributes\n",
        "    self.number = number\n",
        "    self.age = age\n",
        "    self.school = school\n",
        "    self.course = course\n",
        "\n",
        "Myself = Student(\"Louis Philip C. Dela Cruz\", \"0218-4404-772\", 21, \"Our Lady of Fatima University\", \"Computer Science\")\n",
        "print(\"My name is:\",Myself.name)\n",
        "print(\"Student Number:\",Myself.number)\n",
        "print(\"Age:\",Myself.age)\n",
        "print(\"School:\",Myself.school)\n",
        "print(\"Course:\",Myself.course)\n"
      ],
      "metadata": {
        "colab": {
          "base_uri": "https://localhost:8080/"
        },
        "id": "us0W3YefkGvA",
        "outputId": "9913fc88-a9f5-4a8e-e066-5c095a332e8a"
      },
      "execution_count": 11,
      "outputs": [
        {
          "output_type": "stream",
          "name": "stdout",
          "text": [
            "My name is: Louis Philip C. Dela Cruz\n",
            "Student Number: 0218-4404-772\n",
            "Age: 21\n",
            "School: Our Lady of Fatima University\n",
            "Course: Computer Science\n"
          ]
        }
      ]
    }
  ]
}